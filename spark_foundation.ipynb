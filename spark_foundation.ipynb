{
  "nbformat": 4,
  "nbformat_minor": 0,
  "metadata": {
    "colab": {
      "name": "spark_foundation.ipynb",
      "provenance": []
    },
    "kernelspec": {
      "name": "python3",
      "display_name": "Python 3"
    },
    "language_info": {
      "name": "python"
    }
  },
  "cells": [
    {
      "cell_type": "markdown",
      "metadata": {
        "id": "-webizbPp7rS"
      },
      "source": [
        "TRAINING WITH DATASET ---> GOOGLE COLAB\n",
        "\n",
        "TESTING --> VS CODE.\n",
        "\n",
        "\n"
      ]
    },
    {
      "cell_type": "code",
      "metadata": {
        "colab": {
          "base_uri": "https://localhost:8080/"
        },
        "id": "WdBYOggbwHkS",
        "outputId": "1ff57cf2-fe92-45dc-8eb5-0b6da65d97bf"
      },
      "source": [
        "from google.colab import drive\n",
        "drive.mount('/content/drive')     # to access dataset"
      ],
      "execution_count": null,
      "outputs": [
        {
          "output_type": "stream",
          "text": [
            "Mounted at /content/drive\n"
          ],
          "name": "stdout"
        }
      ]
    },
    {
      "cell_type": "markdown",
      "metadata": {
        "id": "tmJ-zf8lp3-x"
      },
      "source": [
        "LIBRARIES"
      ]
    },
    {
      "cell_type": "code",
      "metadata": {
        "id": "zy7SKnzrzEsz"
      },
      "source": [
        "from keras.optimizers import RMSprop\n",
        "from keras.preprocessing.image import ImageDataGenerator\n",
        "import cv2\n",
        "from keras.models import Sequential\n",
        "from keras.layers import Conv2D, Input, ZeroPadding2D, BatchNormalization, Activation, MaxPooling2D, Flatten, Dense,Dropout\n",
        "from keras.models import Model, load_model\n",
        "from keras.callbacks import TensorBoard, ModelCheckpoint\n",
        "from sklearn.model_selection import train_test_split\n",
        "from sklearn.metrics import f1_score\n",
        "from sklearn.utils import shuffle\n",
        "import imutils\n",
        "import numpy as np"
      ],
      "execution_count": null,
      "outputs": []
    },
    {
      "cell_type": "markdown",
      "metadata": {
        "id": "yIv696JqqTNJ"
      },
      "source": [
        "NEURAL NET\n"
      ]
    },
    {
      "cell_type": "code",
      "metadata": {
        "id": "Utv_G3WVzK-1"
      },
      "source": [
        "model = Sequential([\n",
        "    Conv2D(100, (3,3), activation='relu', input_shape=(150, 150, 3)),\n",
        "    MaxPooling2D(2,2),\n",
        "    \n",
        "    Conv2D(100, (3,3), activation='relu'),\n",
        "    MaxPooling2D(2,2),\n",
        "    \n",
        "    Flatten(),\n",
        "    Dropout(0.5),\n",
        "    Dense(50, activation='relu'),\n",
        "    Dense(2, activation='softmax')\n",
        "])\n",
        "model.compile(optimizer='adam', loss='binary_crossentropy', metrics=['acc'])"
      ],
      "execution_count": null,
      "outputs": []
    },
    {
      "cell_type": "markdown",
      "metadata": {
        "id": "pAvXWjPfqa8U"
      },
      "source": [
        ""
      ]
    },
    {
      "cell_type": "code",
      "metadata": {
        "colab": {
          "base_uri": "https://localhost:8080/"
        },
        "id": "0YOvR_huzPZ-",
        "outputId": "e5907ae5-3107-4c4d-f71c-6c7ab80308f1"
      },
      "source": [
        "TRAINING_DIR = \"./drive/My Drive/Dataset/train/train\"\n",
        "train_datagen = ImageDataGenerator(rescale=1.0/255,\n",
        "                                   rotation_range=40,\n",
        "                                   width_shift_range=0.2,\n",
        "                                   height_shift_range=0.2,\n",
        "                                   shear_range=0.2,\n",
        "                                   zoom_range=0.2,\n",
        "                                   horizontal_flip=True,\n",
        "                                   fill_mode='nearest')\n",
        "\n",
        "train_generator = train_datagen.flow_from_directory(TRAINING_DIR, \n",
        "                                                    batch_size=10, \n",
        "                                                    target_size=(150, 150))\n",
        "VALIDATION_DIR = \"./drive/My Drive/Dataset/test/test\"\n",
        "validation_datagen = ImageDataGenerator(rescale=1.0/255)\n",
        "\n",
        "validation_generator = validation_datagen.flow_from_directory(VALIDATION_DIR, \n",
        "                                                         batch_size=10, \n",
        "                                                         target_size=(150, 150))"
      ],
      "execution_count": null,
      "outputs": [
        {
          "output_type": "stream",
          "text": [
            "Found 1315 images belonging to 2 classes.\n",
            "Found 194 images belonging to 2 classes.\n"
          ],
          "name": "stdout"
        }
      ]
    },
    {
      "cell_type": "code",
      "metadata": {
        "id": "38RrHsZkzsME"
      },
      "source": [
        "checkpoint = ModelCheckpoint('model2-{epoch:03d}.model',monitor='val_loss',verbose=0,save_best_only=True,mode='auto') # checkpoint to get more accurate results."
      ],
      "execution_count": null,
      "outputs": []
    },
    {
      "cell_type": "markdown",
      "metadata": {
        "id": "oi3Qm6UWqnqT"
      },
      "source": [
        "TRAINING"
      ]
    },
    {
      "cell_type": "code",
      "metadata": {
        "colab": {
          "base_uri": "https://localhost:8080/"
        },
        "id": "J1X4RTJrzyZm",
        "outputId": "224a25a8-f044-42dc-c99e-3fbe50919326"
      },
      "source": [
        "history = model.fit_generator(train_generator,\n",
        "                              epochs=5,\n",
        "                              validation_data=validation_generator,\n",
        "                              callbacks=[checkpoint])                 #accuray : 90%"
      ],
      "execution_count": null,
      "outputs": [
        {
          "output_type": "stream",
          "text": [
            "/usr/local/lib/python3.7/dist-packages/keras/engine/training.py:1915: UserWarning: `Model.fit_generator` is deprecated and will be removed in a future version. Please use `Model.fit`, which supports generators.\n",
            "  warnings.warn('`Model.fit_generator` is deprecated and '\n"
          ],
          "name": "stderr"
        },
        {
          "output_type": "stream",
          "text": [
            "Epoch 1/5\n",
            "132/132 [==============================] - 345s 3s/step - loss: 0.4939 - acc: 0.7635 - val_loss: 0.1888 - val_acc: 0.9175\n",
            "INFO:tensorflow:Assets written to: model2-001.model/assets\n",
            "Epoch 2/5\n",
            "132/132 [==============================] - 131s 990ms/step - loss: 0.2914 - acc: 0.8844 - val_loss: 0.1087 - val_acc: 0.9588\n",
            "INFO:tensorflow:Assets written to: model2-002.model/assets\n",
            "Epoch 3/5\n",
            "132/132 [==============================] - 131s 988ms/step - loss: 0.2830 - acc: 0.8935 - val_loss: 0.1171 - val_acc: 0.9588\n",
            "Epoch 4/5\n",
            "132/132 [==============================] - 130s 987ms/step - loss: 0.2823 - acc: 0.8829 - val_loss: 0.1108 - val_acc: 0.9742\n",
            "Epoch 5/5\n",
            "132/132 [==============================] - 130s 985ms/step - loss: 0.2652 - acc: 0.9057 - val_loss: 0.1062 - val_acc: 0.9588\n",
            "INFO:tensorflow:Assets written to: model2-005.model/assets\n"
          ],
          "name": "stdout"
        }
      ]
    },
    {
      "cell_type": "code",
      "metadata": {
        "id": "Hzn4ba_4BuQg"
      },
      "source": [
        "model.save('model-010.h5')  # COMMAND TO SAVE MODEL."
      ],
      "execution_count": null,
      "outputs": []
    }
  ]
}